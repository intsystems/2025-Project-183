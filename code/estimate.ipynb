{
 "cells": [
  {
   "metadata": {},
   "cell_type": "markdown",
   "source": "# Effective Training",
   "id": "732f1413c8a8de26"
  },
  {
   "cell_type": "code",
   "id": "initial_id",
   "metadata": {
    "collapsed": true,
    "ExecuteTime": {
     "end_time": "2025-04-30T00:19:55.778252Z",
     "start_time": "2025-04-30T00:19:54.528661Z"
    }
   },
   "source": [
    "import os\n",
    "\n",
    "os.environ[\"TQDM_DISABLE\"] = \"1\"\n",
    "\n",
    "import logging\n",
    "\n",
    "logging.getLogger(\"tqdm\").setLevel(logging.ERROR)\n",
    "import torch\n",
    "import torch.nn as nn\n",
    "import torch.optim as optim\n",
    "from torchvision import transforms\n",
    "\n",
    "from src.models import MLP\n",
    "from src.models import estimate_train\n",
    "from src.utils import init_dataloader\n",
    "\n",
    "DEVICE = 'cuda' if torch.cuda.is_available() else 'cpu'"
   ],
   "outputs": [],
   "execution_count": 1
  },
  {
   "metadata": {
    "ExecuteTime": {
     "end_time": "2025-04-30T00:19:55.857868Z",
     "start_time": "2025-04-30T00:19:55.836779Z"
    }
   },
   "cell_type": "code",
   "source": [
    "transform = transforms.Compose([\n",
    "    transforms.ToTensor(),\n",
    "    transforms.Normalize((0.1307,), (0.3081,))\n",
    "])\n",
    "\n",
    "train_loader = init_dataloader(\n",
    "    dataset_name='MNIST',\n",
    "    transform=transform,\n",
    "    batch_size=64,\n",
    "    dataset_load_path='data/',\n",
    "    train_mode=True,\n",
    "    size=64 * (10000 // 64)\n",
    ")\n",
    "\n",
    "test_loader = init_dataloader(\n",
    "    dataset_name='MNIST',\n",
    "    transform=transform,\n",
    "    batch_size=64,\n",
    "    dataset_load_path='data/',\n",
    "    train_mode=False,\n",
    "    size=64 * (10000 // 64)\n",
    ")"
   ],
   "id": "38ca246d4825e16a",
   "outputs": [],
   "execution_count": 2
  },
  {
   "metadata": {
    "jupyter": {
     "is_executing": true
    },
    "ExecuteTime": {
     "start_time": "2025-04-30T00:19:55.881123Z"
    }
   },
   "cell_type": "code",
   "source": [
    "model = MLP(layers_num=2, hidden=256, input_channels=1, input_sizes=(28, 28), classes=10).to(DEVICE)\n",
    "optimizer = optim.Adam(model.parameters(), lr=0.0025)\n",
    "criterion = nn.CrossEntropyLoss()\n",
    "\n",
    "estimate_train(model, criterion, train_loader, optimizer, delta=0.001, num_epochs=10, log=True)"
   ],
   "id": "aa63ae6a5ed20498",
   "outputs": [
    {
     "name": "stdout",
     "output_type": "stream",
     "text": [
      "Batch [1/156]: loss = 0.8159, delta = 1000000000.0000\n",
      "Batch [2/156]: loss = 0.4491, delta = 215.4872\n",
      "Batch [3/156]: loss = 0.5019, delta = 101.2846\n",
      "Batch [4/156]: loss = 0.4981, delta = 16.7980\n",
      "Batch [5/156]: loss = 0.2739, delta = 2.3243\n"
     ]
    }
   ],
   "execution_count": null
  }
 ],
 "metadata": {
  "kernelspec": {
   "display_name": "Python 3",
   "language": "python",
   "name": "python3"
  },
  "language_info": {
   "codemirror_mode": {
    "name": "ipython",
    "version": 2
   },
   "file_extension": ".py",
   "mimetype": "text/x-python",
   "name": "python",
   "nbconvert_exporter": "python",
   "pygments_lexer": "ipython2",
   "version": "2.7.6"
  }
 },
 "nbformat": 4,
 "nbformat_minor": 5
}

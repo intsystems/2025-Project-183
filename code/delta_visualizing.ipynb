{
 "cells": [
  {
   "metadata": {},
   "cell_type": "markdown",
   "source": "# Delta Experiment",
   "id": "c81cf78b1e995840"
  },
  {
   "cell_type": "code",
   "id": "initial_id",
   "metadata": {
    "collapsed": true,
    "ExecuteTime": {
     "end_time": "2025-04-30T00:19:13.627586Z",
     "start_time": "2025-04-30T00:19:11.961118Z"
    }
   },
   "source": [
    "import torch\n",
    "import torch.nn as nn\n",
    "import torch.optim as optim\n",
    "from torchvision import transforms\n",
    "\n",
    "from src.models import MLP\n",
    "from src.models import train\n",
    "from src.utils import init_dataloader\n",
    "from src.calc import DeltaCalculator\n",
    "from src.visualize import DeltaVisualizer\n",
    "from src.directions import RandomDirection\n",
    "from src.directions import EigenDirection\n",
    "\n",
    "DEVICE = 'cuda' if torch.cuda.is_available() else 'cpu'"
   ],
   "outputs": [],
   "execution_count": 1
  },
  {
   "metadata": {
    "ExecuteTime": {
     "end_time": "2025-04-30T00:19:13.705648Z",
     "start_time": "2025-04-30T00:19:13.683547Z"
    }
   },
   "cell_type": "code",
   "source": [
    "transform = transforms.Compose([\n",
    "    transforms.ToTensor(),\n",
    "    transforms.Normalize((0.1307,), (0.3081,))\n",
    "])\n",
    "\n",
    "train_loader = init_dataloader(\n",
    "    dataset_name='MNIST',\n",
    "    transform=transform,\n",
    "    batch_size=64,\n",
    "    dataset_load_path='data/',\n",
    "    train_mode=True,\n",
    "    size=64 * (10000 // 64)\n",
    ")\n",
    "\n",
    "test_loader = init_dataloader(\n",
    "    dataset_name='MNIST',\n",
    "    transform=transform,\n",
    "    batch_size=64,\n",
    "    dataset_load_path='data/',\n",
    "    train_mode=False,\n",
    "    size=64 * (10000 // 64)\n",
    ")"
   ],
   "id": "f282b99d0ba603ac",
   "outputs": [],
   "execution_count": 2
  },
  {
   "metadata": {
    "ExecuteTime": {
     "end_time": "2025-04-30T00:19:17.867661Z",
     "start_time": "2025-04-30T00:19:13.710399Z"
    }
   },
   "cell_type": "code",
   "source": [
    "model = MLP(layers_num=2, hidden=256, input_channels=1, input_sizes=(28, 28), classes=10).to(DEVICE)\n",
    "optimizer = optim.Adam(model.parameters(), lr=0.001)\n",
    "criterion = nn.CrossEntropyLoss()\n",
    "\n",
    "train(model, criterion, train_loader, optimizer)"
   ],
   "id": "64945a1e413d210c",
   "outputs": [],
   "execution_count": 3
  },
  {
   "metadata": {
    "ExecuteTime": {
     "end_time": "2025-04-30T00:19:17.875253Z",
     "start_time": "2025-04-30T00:19:17.873524Z"
    }
   },
   "cell_type": "code",
   "source": [
    "core = RandomDirection(model, criterion, train_loader)\n",
    "calc = DeltaCalculator(model, criterion, train_loader, core)\n",
    "vis = DeltaVisualizer(calc)"
   ],
   "id": "aa6a9f44814e861",
   "outputs": [],
   "execution_count": 4
  },
  {
   "metadata": {
    "jupyter": {
     "is_executing": true
    },
    "ExecuteTime": {
     "start_time": "2025-04-30T00:19:17.918897Z"
    }
   },
   "cell_type": "code",
   "source": [
    "import matplotlib as mpl\n",
    "\n",
    "mpl.rcParams['xtick.labelsize'] = 20\n",
    "mpl.rcParams['ytick.labelsize'] = 20\n",
    "mpl.rcParams['axes.labelsize'] = 25\n",
    "mpl.rcParams['legend.fontsize'] = 20\n",
    "mpl.rcParams['legend.title_fontsize'] = 20\n",
    "\n",
    "vis.compare_params(\n",
    "    {'dim': 2},\n",
    "    'sigma',\n",
    "    [0.1, 1, 5, 10],\n",
    "    num_samples=1024,\n",
    "    begin=10\n",
    ")"
   ],
   "id": "ed3791298486f77f",
   "outputs": [
    {
     "data": {
      "text/plain": [
       "  0%|          | 0/4 [00:00<?, ?it/s]"
      ],
      "application/vnd.jupyter.widget-view+json": {
       "version_major": 2,
       "version_minor": 0,
       "model_id": "ced4d7eb925e4a6ba589cf1347328bbf"
      }
     },
     "metadata": {},
     "output_type": "display_data"
    }
   ],
   "execution_count": null
  },
  {
   "metadata": {},
   "cell_type": "code",
   "source": [
    "vis.compare_params(\n",
    "    {'sigma': 1},\n",
    "    'dim',\n",
    "    [2, 16, 64, 256],\n",
    "    num_samples=1024,\n",
    "    begin=10\n",
    ")"
   ],
   "id": "2ca47c2908d237a7",
   "outputs": [],
   "execution_count": null
  },
  {
   "metadata": {},
   "cell_type": "code",
   "source": [
    "core_e = EigenDirection(model, criterion, train_loader)\n",
    "calc_e = DeltaCalculator(model, criterion, train_loader, core_e)\n",
    "vis_e = DeltaVisualizer(calc_e)"
   ],
   "id": "653734373d481f13",
   "outputs": [],
   "execution_count": null
  },
  {
   "metadata": {},
   "cell_type": "code",
   "source": [
    "vis_e.visualize_all(\n",
    "    {'dim': 10, 'sigma': 1},\n",
    "    num_samples=1024,\n",
    "    begin=10\n",
    ")"
   ],
   "id": "b8f8cca77dd24d99",
   "outputs": [],
   "execution_count": null
  }
 ],
 "metadata": {
  "kernelspec": {
   "display_name": "Python 3",
   "language": "python",
   "name": "python3"
  },
  "language_info": {
   "codemirror_mode": {
    "name": "ipython",
    "version": 2
   },
   "file_extension": ".py",
   "mimetype": "text/x-python",
   "name": "python",
   "nbconvert_exporter": "python",
   "pygments_lexer": "ipython2",
   "version": "2.7.6"
  }
 },
 "nbformat": 4,
 "nbformat_minor": 5
}

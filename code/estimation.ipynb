{
 "cells": [
  {
   "metadata": {},
   "cell_type": "markdown",
   "source": "# Theory Approving Experiment",
   "id": "dea889fa7036bc38"
  },
  {
   "metadata": {
    "ExecuteTime": {
     "end_time": "2025-04-30T00:19:38.725807Z",
     "start_time": "2025-04-30T00:19:36.987044Z"
    }
   },
   "cell_type": "code",
   "source": [
    "import torch\n",
    "import torch.nn as nn\n",
    "import torch.optim as optim\n",
    "from torch.utils.data.datapipes.iter.grouping import UnBatcherIterDataPipe\n",
    "from torchvision import transforms\n",
    "import numpy as np\n",
    "from tqdm.auto import tqdm\n",
    "\n",
    "from src.models import MLP\n",
    "from src.models import train\n",
    "from src.utils import init_dataloader\n",
    "from src.eigenvalues import HessianEigenvector\n",
    "from src.models import get_loss\n",
    "from src.visualize import DeltaVisualizer\n",
    "from src.calc import DeltaCalculator\n",
    "from src.directions import EigenDirection\n",
    "\n",
    "DEVICE = 'cuda' if torch.cuda.is_available() else 'cpu'"
   ],
   "id": "e9c5851ae178bb1",
   "outputs": [],
   "execution_count": 1
  },
  {
   "metadata": {
    "ExecuteTime": {
     "end_time": "2025-04-30T00:19:38.817279Z",
     "start_time": "2025-04-30T00:19:38.790615Z"
    }
   },
   "cell_type": "code",
   "source": [
    "transform = transforms.Compose([\n",
    "    transforms.ToTensor(),\n",
    "    transforms.Normalize((0.1307,), (0.3081,))\n",
    "])\n",
    "\n",
    "train_loader = init_dataloader(\n",
    "    dataset_name='MNIST',\n",
    "    transform=transform,\n",
    "    batch_size=64,\n",
    "    dataset_load_path='data/',\n",
    "    train_mode=True,\n",
    "    size=64 * (10000 // 64)\n",
    ")\n",
    "\n",
    "test_loader = init_dataloader(\n",
    "    dataset_name='MNIST',\n",
    "    transform=transform,\n",
    "    batch_size=64,\n",
    "    dataset_load_path='data/',\n",
    "    train_mode=False,\n",
    "    size=64 * (10000 // 64)\n",
    ")"
   ],
   "id": "dc3f291cfb96d582",
   "outputs": [],
   "execution_count": 2
  },
  {
   "metadata": {
    "ExecuteTime": {
     "end_time": "2025-04-30T00:19:43.701978Z",
     "start_time": "2025-04-30T00:19:38.837076Z"
    }
   },
   "cell_type": "code",
   "source": [
    "model = MLP(layers_num=2, hidden=256, input_channels=1, input_sizes=(28, 28), classes=10).to(DEVICE)\n",
    "optimizer = optim.Adam(model.parameters(), lr=0.001)\n",
    "criterion = nn.CrossEntropyLoss()\n",
    "\n",
    "train(model, criterion, train_loader, optimizer, num_epochs=10)\n",
    "\n",
    "loss = get_loss(model, criterion, train_loader, device=DEVICE)\n",
    "func = torch.cumsum(loss, dim=0) / torch.arange(1, loss.size(0) + 1, device=model.device)"
   ],
   "id": "c607f6f288217888",
   "outputs": [],
   "execution_count": 3
  },
  {
   "metadata": {
    "jupyter": {
     "is_executing": true
    },
    "ExecuteTime": {
     "start_time": "2025-04-30T00:19:43.763958Z"
    }
   },
   "cell_type": "code",
   "source": [
    "eigen = []\n",
    "for i in tqdm(range(50, len(func))):\n",
    "    eigen.append(HessianEigenvector(model.parameters(), func[i]).get(10)[0])\n",
    "eigen = np.array(eigen)"
   ],
   "id": "5c2115ac648e2d66",
   "outputs": [
    {
     "data": {
      "text/plain": [
       "  0%|          | 0/106 [00:00<?, ?it/s]"
      ],
      "application/vnd.jupyter.widget-view+json": {
       "version_major": 2,
       "version_minor": 0,
       "model_id": "20e97b1fc026481ba5cadbf7afdfcd96"
      }
     },
     "metadata": {},
     "output_type": "display_data"
    }
   ],
   "execution_count": null
  },
  {
   "metadata": {},
   "cell_type": "code",
   "source": [
    "from numpy.lib.stride_tricks import sliding_window_view\n",
    "\n",
    "\n",
    "def sliding_avg(eigen_matrix, k):\n",
    "    pad = np.pad(eigen_matrix, k, mode='edge')\n",
    "    windows = sliding_window_view(pad, window_shape=2 * k + 1)\n",
    "    return windows.mean(axis=1)"
   ],
   "id": "702c35b31a3d43c4",
   "outputs": [],
   "execution_count": null
  },
  {
   "metadata": {},
   "cell_type": "code",
   "source": [
    "def get_theoretical(eigen_matrix):\n",
    "    diff = eigen_matrix[1:] - eigen_matrix[:-1]\n",
    "    return (2 * np.square(diff).sum(axis=1) + np.square(diff.sum(axis=1))) / 4"
   ],
   "id": "93f36959c89968df",
   "outputs": [],
   "execution_count": null
  },
  {
   "metadata": {},
   "cell_type": "code",
   "source": [
    "core_e = EigenDirection(model, criterion, train_loader)\n",
    "calc_e = DeltaCalculator(model, criterion, train_loader, core_e)\n",
    "vis_e = DeltaVisualizer(calc_e)"
   ],
   "id": "18dc4f5d2426bd0a",
   "outputs": [],
   "execution_count": null
  },
  {
   "metadata": {},
   "cell_type": "code",
   "source": [
    "import matplotlib as mpl\n",
    "\n",
    "mpl.rcParams['xtick.labelsize'] = 26\n",
    "mpl.rcParams['ytick.labelsize'] = 26\n",
    "mpl.rcParams['axes.labelsize'] = 28\n",
    "mpl.rcParams['legend.fontsize'] = 24\n",
    "\n",
    "theory = sliding_avg(get_theoretical(eigen), 5)\n",
    "\n",
    "params = {'dim': 10, 'sigma': 1}\n",
    "num_samples = 1024\n",
    "deltas = vis_e.visualize_border(theory,\n",
    "                                params=params,\n",
    "                                num_samples=num_samples,\n",
    "                                begin=10, striding_func=lambda x: sliding_avg(x, 5), return_deltas=True)"
   ],
   "id": "9542e27dd05b45b7",
   "outputs": [],
   "execution_count": null
  },
  {
   "metadata": {},
   "cell_type": "code",
   "source": [
    "empiric = deltas[50:]\n",
    "\n",
    "loss_val = func[50:-1].cpu().detach().numpy()\n",
    "\n",
    "_, axs = plt.subplots(figsize=(18, 14), nrows=2, ncols=1)\n",
    "\n",
    "axs[0].scatter(loss_val, empiric)\n",
    "\n",
    "k1, b1 = np.polyfit(loss_val, empiric, 1)\n",
    "y1_trend = k1 * loss_val + b1\n",
    "axs[0].plot(loss_val, y1_trend, color='red', linewidth=2, label=f'Trend line')\n",
    "axs[0].set(xlabel=r'$\\mathcal {L}_k$', ylabel=r'$\\Delta_k$ Empirical')\n",
    "axs[0].legend()\n",
    "\n",
    "axs[1].scatter(loss_val, theory)\n",
    "\n",
    "k2, b2 = np.polyfit(loss_val, theory, 1)\n",
    "y2_trend = k2 * loss_val + b2\n",
    "axs[1].plot(loss_val, y2_trend, color='green', linewidth=2, label=f'Trend line')\n",
    "axs[1].set(xlabel=r'$\\mathcal {L}_k$', ylabel=r'$\\Delta_k$ Theoretical')\n",
    "axs[1].legend()\n",
    "\n",
    "plt.savefig(\"../paper/img/delta_loss\" + f\"_{params['sigma']}_{params['dim']}_{num_samples}\" + \".pdf\")\n",
    "plt.show()"
   ],
   "id": "294fcd63f6c0bf0c",
   "outputs": [],
   "execution_count": null
  }
 ],
 "metadata": {
  "kernelspec": {
   "display_name": "Python 3",
   "language": "python",
   "name": "python3"
  },
  "language_info": {
   "codemirror_mode": {
    "name": "ipython",
    "version": 2
   },
   "file_extension": ".py",
   "mimetype": "text/x-python",
   "name": "python",
   "nbconvert_exporter": "python",
   "pygments_lexer": "ipython2",
   "version": "2.7.6"
  }
 },
 "nbformat": 4,
 "nbformat_minor": 5
}

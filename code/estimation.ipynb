{
 "cells": [
  {
   "metadata": {},
   "cell_type": "markdown",
   "source": "# Theory Approving Experiment",
   "id": "dea889fa7036bc38"
  },
  {
   "metadata": {
    "ExecuteTime": {
     "end_time": "2025-04-23T13:24:24.757440Z",
     "start_time": "2025-04-23T13:24:21.904420Z"
    }
   },
   "cell_type": "code",
   "source": [
    "import torch\n",
    "import torch.nn as nn\n",
    "import torch.optim as optim\n",
    "from torchvision import transforms\n",
    "import numpy as np\n",
    "from tqdm.auto import tqdm\n",
    "\n",
    "from src.models import MLP\n",
    "from src.models import train\n",
    "from src.utils import init_dataloader\n",
    "from src.eigenvalues import HessianEigenvector\n",
    "from src.models import get_loss\n",
    "from src.visualize import DeltaVisualizer\n",
    "from src.calc import DeltaCalculator\n",
    "from src.directions import EigenDirection\n",
    "\n",
    "DEVICE = 'cuda' if torch.cuda.is_available() else 'cpu'"
   ],
   "id": "e9c5851ae178bb1",
   "outputs": [],
   "execution_count": 2
  },
  {
   "metadata": {
    "ExecuteTime": {
     "end_time": "2025-04-23T13:24:24.816305Z",
     "start_time": "2025-04-23T13:24:24.778078Z"
    }
   },
   "cell_type": "code",
   "source": [
    "transform = transforms.Compose([\n",
    "    transforms.ToTensor(),\n",
    "    transforms.Normalize((0.1307,), (0.3081,))\n",
    "])\n",
    "\n",
    "train_loader = init_dataloader(\n",
    "    dataset_name='MNIST',\n",
    "    transform=transform,\n",
    "    batch_size=64,\n",
    "    dataset_load_path='data/',\n",
    "    train_mode=True,\n",
    "    size=64 * (10000 // 64)\n",
    ")\n",
    "\n",
    "test_loader = init_dataloader(\n",
    "    dataset_name='MNIST',\n",
    "    transform=transform,\n",
    "    batch_size=64,\n",
    "    dataset_load_path='data/',\n",
    "    train_mode=False,\n",
    "    size=64 * (10000 // 64)\n",
    ")"
   ],
   "id": "dc3f291cfb96d582",
   "outputs": [],
   "execution_count": 3
  },
  {
   "metadata": {
    "ExecuteTime": {
     "end_time": "2025-04-23T13:24:29.192788Z",
     "start_time": "2025-04-23T13:24:24.825094Z"
    }
   },
   "cell_type": "code",
   "source": [
    "model = MLP(layers_num=2, hidden=256, input_channels=1, input_sizes=(28, 28), classes=10).to(DEVICE)\n",
    "optimizer = optim.Adam(model.parameters(), lr=0.001)\n",
    "criterion = nn.CrossEntropyLoss()\n",
    "\n",
    "train(model, criterion, train_loader, optimizer, num_epochs=10)\n",
    "\n",
    "loss = get_loss(model, criterion, train_loader, device=DEVICE)\n",
    "func = torch.cumsum(loss, dim=0) / torch.arange(1, loss.size(0) + 1, device=model.device)"
   ],
   "id": "c607f6f288217888",
   "outputs": [
    {
     "data": {
      "text/plain": [
       "Epoch:   0%|          | 0/10 [00:00<?, ?it/s]"
      ],
      "application/vnd.jupyter.widget-view+json": {
       "version_major": 2,
       "version_minor": 0,
       "model_id": "7ea590ae84a14a35a31491e93cfc5148"
      }
     },
     "metadata": {},
     "output_type": "display_data"
    }
   ],
   "execution_count": 4
  },
  {
   "metadata": {
    "jupyter": {
     "is_executing": true
    },
    "ExecuteTime": {
     "start_time": "2025-04-23T13:24:29.240427Z"
    }
   },
   "cell_type": "code",
   "source": [
    "eigen = []\n",
    "for i in tqdm(range(len(func))):\n",
    "    eigen.append(HessianEigenvector(model.parameters(), func[i]).get(10)[0])\n",
    "eigen = np.array(eigen)"
   ],
   "id": "5c2115ac648e2d66",
   "outputs": [
    {
     "data": {
      "text/plain": [
       "  0%|          | 0/156 [00:00<?, ?it/s]"
      ],
      "application/vnd.jupyter.widget-view+json": {
       "version_major": 2,
       "version_minor": 0,
       "model_id": "365046067e1049fbaabdf467f32321b1"
      }
     },
     "metadata": {},
     "output_type": "display_data"
    },
    {
     "data": {
      "text/plain": [
       "Power iter:   0%|          | 0/1000 [00:00<?, ?it/s]"
      ],
      "application/vnd.jupyter.widget-view+json": {
       "version_major": 2,
       "version_minor": 0,
       "model_id": "8997208cefb84a609057db58205bcdd7"
      }
     },
     "metadata": {},
     "output_type": "display_data"
    }
   ],
   "execution_count": null
  },
  {
   "metadata": {
    "ExecuteTime": {
     "end_time": "2025-04-17T18:18:08.725373Z",
     "start_time": "2025-04-17T18:18:08.723634Z"
    }
   },
   "cell_type": "code",
   "source": [
    "diff = eigen[1:] - eigen[:-1]\n",
    "res = (2 * np.square(diff).sum(axis=1) + np.square(diff.sum(axis=1))) / 4"
   ],
   "id": "93f36959c89968df",
   "outputs": [],
   "execution_count": 5
  },
  {
   "metadata": {
    "ExecuteTime": {
     "end_time": "2025-04-17T18:18:09.128703Z",
     "start_time": "2025-04-17T18:18:08.765518Z"
    }
   },
   "cell_type": "code",
   "source": [
    "core_e = EigenDirection(model, criterion, train_loader)\n",
    "calc_e = DeltaCalculator(model, criterion, train_loader, core_e)\n",
    "vis_e = DeltaVisualizer(calc_e)"
   ],
   "id": "18dc4f5d2426bd0a",
   "outputs": [],
   "execution_count": 6
  },
  {
   "metadata": {
    "ExecuteTime": {
     "end_time": "2025-04-23T13:23:58.875787Z",
     "start_time": "2025-04-23T13:23:58.696541Z"
    }
   },
   "cell_type": "code",
   "source": [
    "vis_e.visualize_border(res[50:] / 2 + 0.00012,\n",
    "                       {'dim': 10, 'sigma': 1},\n",
    "                       num_samples=64,\n",
    "                       begin=10\n",
    "                       )"
   ],
   "id": "9542e27dd05b45b7",
   "outputs": [
    {
     "ename": "NameError",
     "evalue": "name 'vis_e' is not defined",
     "output_type": "error",
     "traceback": [
      "\u001B[31m---------------------------------------------------------------------------\u001B[39m",
      "\u001B[31mNameError\u001B[39m                                 Traceback (most recent call last)",
      "\u001B[36mCell\u001B[39m\u001B[36m \u001B[39m\u001B[32mIn[1]\u001B[39m\u001B[32m, line 1\u001B[39m\n\u001B[32m----> \u001B[39m\u001B[32m1\u001B[39m vis_e.visualize_border(res[\u001B[32m50\u001B[39m:] / \u001B[32m2\u001B[39m + \u001B[32m0.00012\u001B[39m,\n\u001B[32m      2\u001B[39m                        {\u001B[33m'\u001B[39m\u001B[33mdim\u001B[39m\u001B[33m'\u001B[39m: \u001B[32m10\u001B[39m, \u001B[33m'\u001B[39m\u001B[33msigma\u001B[39m\u001B[33m'\u001B[39m: \u001B[32m1\u001B[39m},\n\u001B[32m      3\u001B[39m                        num_samples=\u001B[32m64\u001B[39m,\n\u001B[32m      4\u001B[39m                        begin=\u001B[32m10\u001B[39m\n\u001B[32m      5\u001B[39m                        )\n",
      "\u001B[31mNameError\u001B[39m: name 'vis_e' is not defined"
     ]
    }
   ],
   "execution_count": 1
  }
 ],
 "metadata": {
  "kernelspec": {
   "display_name": "Python 3",
   "language": "python",
   "name": "python3"
  },
  "language_info": {
   "codemirror_mode": {
    "name": "ipython",
    "version": 2
   },
   "file_extension": ".py",
   "mimetype": "text/x-python",
   "name": "python",
   "nbconvert_exporter": "python",
   "pygments_lexer": "ipython2",
   "version": "2.7.6"
  }
 },
 "nbformat": 4,
 "nbformat_minor": 5
}

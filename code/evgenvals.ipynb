{
 "cells": [
  {
   "metadata": {},
   "cell_type": "markdown",
   "source": "# Eigenvalues Experiment",
   "id": "46a67215d1c7fd62"
  },
  {
   "cell_type": "code",
   "id": "initial_id",
   "metadata": {
    "collapsed": true,
    "ExecuteTime": {
     "end_time": "2025-04-30T00:19:24.116779Z",
     "start_time": "2025-04-30T00:19:22.824670Z"
    }
   },
   "source": [
    "import torch\n",
    "import torch.nn as nn\n",
    "import torch.optim as optim\n",
    "from torchvision import transforms\n",
    "import numpy as np\n",
    "from tqdm.auto import tqdm\n",
    "\n",
    "from src.models import MLP\n",
    "from src.models import train\n",
    "from src.utils import init_dataloader\n",
    "from src.models import get_loss\n",
    "from src.eigenvalues import HessianEigenvector\n",
    "\n",
    "DEVICE = 'cuda' if torch.cuda.is_available() else 'cpu'"
   ],
   "outputs": [],
   "execution_count": 1
  },
  {
   "metadata": {
    "ExecuteTime": {
     "end_time": "2025-04-30T00:19:24.203583Z",
     "start_time": "2025-04-30T00:19:24.177579Z"
    }
   },
   "cell_type": "code",
   "source": [
    "transform = transforms.Compose([\n",
    "    transforms.ToTensor(),\n",
    "    transforms.Normalize((0.1307,), (0.3081,))\n",
    "])\n",
    "\n",
    "train_loader = init_dataloader(\n",
    "    dataset_name='MNIST',\n",
    "    transform=transform,\n",
    "    batch_size=64,\n",
    "    dataset_load_path='data/',\n",
    "    train_mode=True,\n",
    "    size=64 * (10000 // 64)\n",
    ")\n",
    "\n",
    "test_loader = init_dataloader(\n",
    "    dataset_name='MNIST',\n",
    "    transform=transform,\n",
    "    batch_size=64,\n",
    "    dataset_load_path='data/',\n",
    "    train_mode=False,\n",
    "    size=64 * (10000 // 64)\n",
    ")"
   ],
   "id": "6123e1253b3442b4",
   "outputs": [],
   "execution_count": 2
  },
  {
   "metadata": {
    "jupyter": {
     "is_executing": true
    },
    "ExecuteTime": {
     "start_time": "2025-04-30T00:19:24.223820Z"
    }
   },
   "cell_type": "code",
   "source": [
    "eigenvals = []\n",
    "\n",
    "for _ in tqdm(range(50), desc='Sample'):\n",
    "    model = MLP(layers_num=2, hidden=256, input_channels=1, input_sizes=(28, 28), classes=10).to(DEVICE)\n",
    "    optimizer = optim.Adam(model.parameters(), lr=1e-3)\n",
    "    criterion = nn.CrossEntropyLoss()\n",
    "\n",
    "    train(model, criterion, train_loader, optimizer)\n",
    "\n",
    "    loss = get_loss(model, criterion, train_loader, device=DEVICE)\n",
    "    eigen = HessianEigenvector(model.parameters(), loss.mean())\n",
    "    eigenvals.append(HessianEigenvector(model.parameters(), loss.mean()).get(32)[0])\n",
    "\n",
    "eigenvals = np.array(eigenvals)"
   ],
   "id": "81ef92e9a999f760",
   "outputs": [
    {
     "data": {
      "text/plain": [
       "Sample:   0%|          | 0/50 [00:00<?, ?it/s]"
      ],
      "application/vnd.jupyter.widget-view+json": {
       "version_major": 2,
       "version_minor": 0,
       "model_id": "04e90780772f4f71a6e5007f80ca3b6d"
      }
     },
     "metadata": {},
     "output_type": "display_data"
    }
   ],
   "execution_count": null
  },
  {
   "metadata": {},
   "cell_type": "code",
   "source": [
    "import matplotlib.pyplot as plt\n",
    "import matplotlib as mpl\n",
    "\n",
    "mpl.rcParams['xtick.labelsize'] = 18\n",
    "mpl.rcParams['ytick.labelsize'] = 18\n",
    "mpl.rcParams['axes.labelsize'] = 22\n",
    "\n",
    "plt.figure(figsize=(9, 7))\n",
    "\n",
    "plt.plot(eigenvals.mean(axis=0))\n",
    "plt.xlabel(r\"Number of the eigenvalue\")\n",
    "plt.ylabel(\"Eigenvalue\")\n",
    "\n",
    "plt.savefig(f\"../paper/img/eigenvalues.pdf\")\n",
    "plt.show()"
   ],
   "id": "cf47a5b03b4e2052",
   "outputs": [],
   "execution_count": null
  }
 ],
 "metadata": {
  "kernelspec": {
   "display_name": "Python 3",
   "language": "python",
   "name": "python3"
  },
  "language_info": {
   "codemirror_mode": {
    "name": "ipython",
    "version": 2
   },
   "file_extension": ".py",
   "mimetype": "text/x-python",
   "name": "python",
   "nbconvert_exporter": "python",
   "pygments_lexer": "ipython2",
   "version": "2.7.6"
  }
 },
 "nbformat": 4,
 "nbformat_minor": 5
}
